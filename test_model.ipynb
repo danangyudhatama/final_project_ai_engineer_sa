{
 "cells": [
  {
   "cell_type": "code",
   "execution_count": null,
   "metadata": {},
   "outputs": [],
   "source": [
    "import torch\n",
    "from torch.nn import Linear\n",
    "from PIL import Image\n",
    "import requests\n",
    "from io import BytesIO\n",
    "import torchvision.transforms as transforms\n",
    "import torchvision.models as models\n",
    "\n",
    "# Function to preprocess an image from a URL\n",
    "def preprocess_image(url):\n",
    "    response = requests.get(url)\n",
    "    image = Image.open(BytesIO(response.content))\n",
    "    transform = transforms.Compose([\n",
    "        transforms.Resize((224, 224)),\n",
    "        transforms.ToTensor(),\n",
    "        transforms.Normalize(mean=[0.485, 0.456, 0.406], std=[0.229, 0.224, 0.225])\n",
    "    ])\n",
    "    return transform(image)\n",
    "\n",
    "# Load the saved model\n",
    "model = torch.load('full_model2.pth')\n",
    "model.eval()\n",
    "\n",
    "\n",
    "# Function to perform inference using the loaded model\n",
    "def perform_inference(model, image):\n",
    "    with torch.no_grad():\n",
    "        output = model(image.unsqueeze(0))\n",
    "    probabilities = torch.softmax(output, dim=1)\n",
    "    predicted_class = torch.argmax(probabilities).item()\n",
    "    confidence = probabilities[0, predicted_class].item()\n",
    "    return predicted_class, confidence\n",
    "\n",
    "# URL of the image from the web\n",
    "image_url = 'https://cdn1-production-images-kly.akamaized.net/uNkYubvtEPM3S8pki06u1jO50-A=/958x0:3209x3000/469x625/filters:quality(75):strip_icc():format(webp)/kly-media-production/medias/2734642/original/063217000_1550735158-2019-02-20.jpg'\n",
    "\n",
    "# Preprocess the image\n",
    "image = preprocess_image(image_url)\n",
    "\n",
    "# Perform inference\n",
    "predicted_class, confidence = perform_inference(model, image)\n",
    "\n",
    "# Output the results\n",
    "print(f\"Predicted Class: {predicted_class}, Confidence: {confidence}\")\n"
   ]
  }
 ],
 "metadata": {
  "language_info": {
   "name": "python"
  }
 },
 "nbformat": 4,
 "nbformat_minor": 2
}
